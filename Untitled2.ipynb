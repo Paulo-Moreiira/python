{
  "nbformat": 4,
  "nbformat_minor": 0,
  "metadata": {
    "colab": {
      "provenance": [],
      "authorship_tag": "ABX9TyO/X7kczexoumfxdbyHI+Po",
      "include_colab_link": true
    },
    "kernelspec": {
      "name": "python3",
      "display_name": "Python 3"
    },
    "language_info": {
      "name": "python"
    }
  },
  "cells": [
    {
      "cell_type": "markdown",
      "metadata": {
        "id": "view-in-github",
        "colab_type": "text"
      },
      "source": [
        "<a href=\"https://colab.research.google.com/github/Paulo-Moreiira/python/blob/main/Untitled2.ipynb\" target=\"_parent\"><img src=\"https://colab.research.google.com/assets/colab-badge.svg\" alt=\"Open In Colab\"/></a>"
      ]
    },
    {
      "cell_type": "code",
      "execution_count": 2,
      "metadata": {
        "colab": {
          "base_uri": "https://localhost:8080/"
        },
        "id": "s_pM0AAIlZTQ",
        "outputId": "c49c6f4f-36fb-4b66-bb9d-f867b13f737a"
      },
      "outputs": [
        {
          "output_type": "execute_result",
          "data": {
            "text/plain": [
              "True"
            ]
          },
          "metadata": {},
          "execution_count": 2
        }
      ],
      "source": [
        "3>2"
      ]
    },
    {
      "cell_type": "code",
      "source": [
        "a= 'aluno'\n",
        "b='aluna'\n",
        "\n",
        "a!=b"
      ],
      "metadata": {
        "colab": {
          "base_uri": "https://localhost:8080/"
        },
        "id": "yhHZ4EYQmToz",
        "outputId": "ef36616a-89fd-4918-a1f1-445872bb600d"
      },
      "execution_count": 8,
      "outputs": [
        {
          "output_type": "execute_result",
          "data": {
            "text/plain": [
              "True"
            ]
          },
          "metadata": {},
          "execution_count": 8
        }
      ]
    },
    {
      "cell_type": "code",
      "source": [
        "idade=14\n",
        "\n",
        "if idade < 18:\n",
        "   print(\"Menor de idade\")\n",
        "\n",
        "elif idade >= 18 and idade < 65:\n",
        "  print(\"Adulto\")\n",
        "\n",
        "else:\n",
        "  print(\"Idoso\")"
      ],
      "metadata": {
        "colab": {
          "base_uri": "https://localhost:8080/"
        },
        "id": "fKP7Vt_PnqDI",
        "outputId": "9c133f50-8087-4f14-d50d-8fbe590d30c9"
      },
      "execution_count": 54,
      "outputs": [
        {
          "output_type": "stream",
          "name": "stdout",
          "text": [
            "Menor de idade\n"
          ]
        }
      ]
    },
    {
      "cell_type": "code",
      "source": [
        "# bem vindo a maquinha de venda automatica de ingressos do cinema\n",
        "\n",
        "# Solicita a idade do cliente\n",
        "\n",
        "idade = int(input(\"porfavor digite sua idade:\"))\n",
        "\n",
        "\n",
        "# Vrifica a idade para sugestão de filmes\n",
        "\n",
        "if idade <12:\n",
        "\n",
        "     print(\"recomendamos o filme infantil FILME 1.\")\n",
        "\n",
        "elif 12 <=idade<18:\n",
        "\n",
        "     print(\"recomendamos o filme adolesente FILME 2.\")\n",
        "\n",
        "else:\n",
        "\n",
        "   print(\"recomendamos o emocionante FILME 3.\")\n",
        "\n",
        "\n",
        "\n",
        "# Verifica a disponibilidade de ingressos\n",
        "\n",
        "\n",
        "quantidade_ingressos =10\n",
        "  # suponha que haja 10 ingressos disponiveis\n",
        "\n",
        "if quantidade_ingressos>0:\n",
        "\n",
        "   print(\"ingressos estao disponiveis. Divirta-sa no cinema!\")\n",
        "\n",
        "\n",
        "else:\n",
        "\n",
        "\n",
        "   print(\"desculpe, todos  os ingressos estao esgotado para hoje.\")\n",
        "\n"
      ],
      "metadata": {
        "colab": {
          "base_uri": "https://localhost:8080/"
        },
        "id": "vcCvvzfxvryc",
        "outputId": "0622f789-67c0-49cd-ae4d-6b23e063d297"
      },
      "execution_count": 57,
      "outputs": [
        {
          "output_type": "stream",
          "name": "stdout",
          "text": [
            "porfavor digite sua idade:14\n",
            "recomendamos o filme adolesente FILME 2.\n",
            "ingressos estao disponiveis. Divirta-sa no cinema!\n"
          ]
        }
      ]
    }
  ]
}